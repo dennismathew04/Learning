{
 "cells": [
  {
   "cell_type": "code",
   "execution_count": null,
   "id": "9bcd34af",
   "metadata": {},
   "outputs": [],
   "source": [
    "import pandas as pd\n",
    "import json\n",
    "from urllib.request import urlopen\n",
    "\n",
    "def get_clp_places(url):\n",
    "    json_url = urllib.request.urlopen(url)\n",
    "    data = json.loads(json_url.read())\n",
    "    df = pd.json_normalize(data)\n",
    "    return df\n",
    "\n",
    "df_clp = get_clp_places(\"https://ecgplacesmw.colruytgroup.com/ecgplacesmw/v3/nl/places/filter/clp-places\")\n",
    "df_clp.head(10)"
   ]
  }
 ],
 "metadata": {
  "kernelspec": {
   "display_name": "Python 3 (ipykernel)",
   "language": "python",
   "name": "python3"
  },
  "language_info": {
   "codemirror_mode": {
    "name": "ipython",
    "version": 3
   },
   "file_extension": ".py",
   "mimetype": "text/x-python",
   "name": "python",
   "nbconvert_exporter": "python",
   "pygments_lexer": "ipython3",
   "version": "3.9.7"
  }
 },
 "nbformat": 4,
 "nbformat_minor": 5
}
